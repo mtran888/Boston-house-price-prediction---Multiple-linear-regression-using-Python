{
 "cells": [
  {
   "cell_type": "markdown",
   "id": "7c4133be",
   "metadata": {},
   "source": [
    "## Introduction"
   ]
  },
  {
   "cell_type": "markdown",
   "id": "e82b6331",
   "metadata": {},
   "source": [
    "The dataset describes the housing market in Boston. It has 500 rows and 14 columns.  \n",
    "The target variable (y) is MEDV, which is the median value of houses in thousand's.  \n",
    "The features variables (x's) are:  \n",
    "1) CRIM - crime rate per capita.  \n",
    "2) NOX - nitric oxides concentration (parts per 10 million).  \n",
    "3) DIS - weighted distances to 5 Boston business centers.  \n",
    "4) RM - average number of rooms per dwelling.  \n",
    "5) PTRATIO - Pupil-teacher ratio by town (categorical).  "
   ]
  },
  {
   "cell_type": "markdown",
   "id": "13f1c687",
   "metadata": {},
   "source": [
    "## Data Cleaning"
   ]
  },
  {
   "cell_type": "code",
   "execution_count": 1,
   "id": "73c443a7",
   "metadata": {},
   "outputs": [
    {
     "ename": "ImportError",
     "evalue": "cannot import name 'stat' from 'scipy' (C:\\Users\\mai_t\\anaconda3\\lib\\site-packages\\scipy\\__init__.py)",
     "output_type": "error",
     "traceback": [
      "\u001b[1;31m---------------------------------------------------------------------------\u001b[0m",
      "\u001b[1;31mImportError\u001b[0m                               Traceback (most recent call last)",
      "Input \u001b[1;32mIn [1]\u001b[0m, in \u001b[0;36m<cell line: 6>\u001b[1;34m()\u001b[0m\n\u001b[0;32m      4\u001b[0m \u001b[38;5;28;01mimport\u001b[39;00m \u001b[38;5;21;01mseaborn\u001b[39;00m \u001b[38;5;28;01mas\u001b[39;00m \u001b[38;5;21;01msns\u001b[39;00m\n\u001b[0;32m      5\u001b[0m \u001b[38;5;28;01mimport\u001b[39;00m \u001b[38;5;21;01mstatsmodels\u001b[39;00m\u001b[38;5;21;01m.\u001b[39;00m\u001b[38;5;21;01mapi\u001b[39;00m \u001b[38;5;28;01mas\u001b[39;00m \u001b[38;5;21;01msm\u001b[39;00m\n\u001b[1;32m----> 6\u001b[0m \u001b[38;5;28;01mfrom\u001b[39;00m \u001b[38;5;21;01mscipy\u001b[39;00m \u001b[38;5;28;01mimport\u001b[39;00m stat\n",
      "\u001b[1;31mImportError\u001b[0m: cannot import name 'stat' from 'scipy' (C:\\Users\\mai_t\\anaconda3\\lib\\site-packages\\scipy\\__init__.py)"
     ]
    }
   ],
   "source": [
    "import pandas as pd\n",
    "import numpy as np\n",
    "import matplotlib.pyplot as plt\n",
    "import seaborn as sns\n",
    "import statsmodels.api as sm\n",
    "from scipy import stat"
   ]
  },
  {
   "cell_type": "code",
   "execution_count": null,
   "id": "4c04ee90",
   "metadata": {},
   "outputs": [],
   "source": [
    "housing = pd.read_csv('housing_data.csv', header=0)"
   ]
  },
  {
   "cell_type": "code",
   "execution_count": null,
   "id": "b306d2d1",
   "metadata": {},
   "outputs": [],
   "source": [
    "housing.head()"
   ]
  },
  {
   "cell_type": "code",
   "execution_count": null,
   "id": "1a2da5a0",
   "metadata": {},
   "outputs": [],
   "source": [
    "housing.shape"
   ]
  },
  {
   "cell_type": "code",
   "execution_count": null,
   "id": "650480df",
   "metadata": {},
   "outputs": [],
   "source": [
    "housing.dtypes"
   ]
  },
  {
   "cell_type": "code",
   "execution_count": null,
   "id": "1ca29842",
   "metadata": {},
   "outputs": [],
   "source": [
    "housing['PTRATIO'] = pd.cut(housing['PTRATIO'], bins=[-float('inf'), 15, float('inf')], labels=['Low', 'High'])\n",
    "housing.head()"
   ]
  },
  {
   "cell_type": "code",
   "execution_count": null,
   "id": "68fd99bd",
   "metadata": {},
   "outputs": [],
   "source": [
    "housing['PTRATIO'] = housing['PTRATIO'].astype(str)"
   ]
  },
  {
   "cell_type": "code",
   "execution_count": null,
   "id": "8067f3ca",
   "metadata": {},
   "outputs": [],
   "source": [
    "housing.dtypes"
   ]
  },
  {
   "cell_type": "markdown",
   "id": "b37aa9cf",
   "metadata": {},
   "source": [
    "## Exploratory Analysis"
   ]
  },
  {
   "cell_type": "code",
   "execution_count": null,
   "id": "2b606538",
   "metadata": {},
   "outputs": [],
   "source": [
    "sns.histplot(housing['MEDV'], kde=True, color='skyblue', bins='auto', edgecolor='black')\n",
    "\n",
    "# Title and labels\n",
    "plt.title('Histogram with KDE Plot')\n",
    "plt.xlabel('Values')\n",
    "plt.ylabel('Frequency')\n",
    "\n",
    "# Show the plot\n",
    "plt.show()"
   ]
  },
  {
   "cell_type": "markdown",
   "id": "0d9f7082",
   "metadata": {},
   "source": [
    "1) The distribution of the MEDV variable does seem to be normal.  \n",
    "2) The variable can be used to predict MEDV are:  \n",
    "    CRIM - crime rate per capita.  \n",
    "    NOX - nitric oxides concentration (parts per 10 million).  \n",
    "    DIS - weighted distances to 5 Boston business centers.  \n",
    "    RM - average number of rooms per dwelling.  \n",
    "    PTRATIO - Pupil-teacher ratio by town (categorical). "
   ]
  },
  {
   "cell_type": "code",
   "execution_count": null,
   "id": "46a90ff9",
   "metadata": {},
   "outputs": [],
   "source": [
    "plt.scatter(housing['CRIM'], housing['MEDV'], color='blue', alpha=0.5)\n",
    "\n",
    "# Title and labels\n",
    "plt.title('MEDV vs CRIM')\n",
    "plt.xlabel('CRIM')\n",
    "plt.ylabel('MEDV')\n",
    "\n",
    "# Show the plot\n",
    "plt.show()"
   ]
  },
  {
   "cell_type": "code",
   "execution_count": null,
   "id": "34626db3",
   "metadata": {},
   "outputs": [],
   "source": [
    "plt.scatter(housing['NOX'], housing['MEDV'], color='blue', alpha=0.5)\n",
    "\n",
    "# Title and labels\n",
    "plt.title('MEDV vs NOX')\n",
    "plt.xlabel('NOX')\n",
    "plt.ylabel('MEDV')\n",
    "\n",
    "# Show the plot\n",
    "plt.show()"
   ]
  },
  {
   "cell_type": "code",
   "execution_count": null,
   "id": "963c8344",
   "metadata": {},
   "outputs": [],
   "source": [
    "plt.scatter(housing['DIS'], housing['MEDV'], color='blue', alpha=0.5)\n",
    "\n",
    "# Title and labels\n",
    "plt.title('MEDV vs DIS')\n",
    "plt.xlabel('DIS')\n",
    "plt.ylabel('MEDV')\n",
    "\n",
    "# Show the plot\n",
    "plt.show()"
   ]
  },
  {
   "cell_type": "code",
   "execution_count": null,
   "id": "53e19d93",
   "metadata": {},
   "outputs": [],
   "source": [
    "plt.scatter(housing['RM'], housing['MEDV'], color='blue', alpha=0.5)\n",
    "\n",
    "# Title and labels\n",
    "plt.title('MEDV vs RM')\n",
    "plt.xlabel('RM')\n",
    "plt.ylabel('MEDV')\n",
    "\n",
    "# Show the plot\n",
    "plt.show()"
   ]
  },
  {
   "cell_type": "code",
   "execution_count": null,
   "id": "00db06ca",
   "metadata": {},
   "outputs": [],
   "source": [
    "sns.boxplot(x='PTRATIO', y='MEDV', data=housing, palette=\"Set2\")\n",
    "\n",
    "# Title and labels\n",
    "plt.title('Box Plot: MEDV across PTRATIO')\n",
    "plt.xlabel('PTRATIO')\n",
    "plt.ylabel('MEDV')\n",
    "\n",
    "# Show the plot\n",
    "plt.show()"
   ]
  },
  {
   "cell_type": "markdown",
   "id": "cfc05730",
   "metadata": {},
   "source": [
    "PTRATIO would be useful in predicting MEDV, since the boxplot shows that the houses in the areas with low student/teacher ratio have higher median prices, and vice versa."
   ]
  },
  {
   "cell_type": "code",
   "execution_count": null,
   "id": "213c0b18",
   "metadata": {},
   "outputs": [],
   "source": [
    "correlation_matrix = housing[['CRIM', 'NOX', 'DIS', 'RM']].corr()\n",
    "\n",
    "# Create a heatmap of the correlation matrix\n",
    "sns.heatmap(correlation_matrix, annot=True, cmap='coolwarm', linewidths=.5)\n",
    "\n",
    "# Title\n",
    "plt.title('Correlation Plot: x variables')"
   ]
  },
  {
   "cell_type": "markdown",
   "id": "2f101cce",
   "metadata": {},
   "source": [
    "Since DIS and NOX exhibit strong correlation (-0.77), I switch NOX to TAX - full-value property-tax rate per $10,000"
   ]
  },
  {
   "cell_type": "code",
   "execution_count": null,
   "id": "79effaa0",
   "metadata": {},
   "outputs": [],
   "source": [
    "correlation_matrix = housing[['CRIM', 'TAX', 'DIS', 'RM']].corr()\n",
    "sns.heatmap(correlation_matrix, annot=True, cmap='coolwarm', linewidths=.5)\n",
    "plt.title('Correlation Plot: x variables')"
   ]
  },
  {
   "cell_type": "code",
   "execution_count": null,
   "id": "9a82d4e6",
   "metadata": {},
   "outputs": [],
   "source": [
    "correlation_matrix = housing[['MEDV','CRIM', 'TAX', 'DIS', 'RM']].corr()\n",
    "sns.heatmap(correlation_matrix, annot=True, cmap='coolwarm', linewidths=.5)\n",
    "plt.title('Correlation Plot: x variables')"
   ]
  },
  {
   "cell_type": "markdown",
   "id": "5415202d",
   "metadata": {},
   "source": [
    "## Modelling using Linear Regression"
   ]
  },
  {
   "cell_type": "code",
   "execution_count": null,
   "id": "0247f407",
   "metadata": {},
   "outputs": [],
   "source": [
    "housing['PTRATIO'] = housing['PTRATIO'].map({'Low': 1, 'High': 0})\n",
    "housing.head()"
   ]
  },
  {
   "cell_type": "code",
   "execution_count": null,
   "id": "09160645",
   "metadata": {},
   "outputs": [],
   "source": [
    "housing.dtypes"
   ]
  },
  {
   "cell_type": "code",
   "execution_count": null,
   "id": "51ceba7e",
   "metadata": {},
   "outputs": [],
   "source": [
    "x = housing[['CRIM', 'DIS', 'TAX', 'RM', 'PTRATIO']]\n",
    "y = housing['MEDV']\n",
    "\n",
    "print(x)\n",
    "print(y)"
   ]
  },
  {
   "cell_type": "code",
   "execution_count": null,
   "id": "ba65300a",
   "metadata": {},
   "outputs": [],
   "source": [
    "X = sm.add_constant(x)"
   ]
  },
  {
   "cell_type": "code",
   "execution_count": null,
   "id": "5f982645",
   "metadata": {},
   "outputs": [],
   "source": [
    "# Create linear regression model\n",
    "\n",
    "model = sm.OLS(y, X).fit()\n",
    "print(model.summary())"
   ]
  },
  {
   "cell_type": "markdown",
   "id": "33363c15",
   "metadata": {},
   "source": [
    "R-square is 0.936"
   ]
  },
  {
   "cell_type": "markdown",
   "id": "206e7ff8",
   "metadata": {},
   "source": [
    "Coefficient interpretation:  \n",
    "\n",
    "CRIM: an increase of one crime per capita will decrease the median house price by 142.6 dollar   \n",
    "DIS: one mile increase in the average distance to the business centers will decrease the median price by 57.8 dollar  \n",
    "TAX: one dollar increase in tax per $10,000 will decrease the median price by 11.2 dollar\n",
    "RM: the number of room increase by 1 will increase the median house price by 7,539 dollar  \n",
    "PTRATIO: if the student-teacher ratio is Low ( 15 or less), median house price will increase by 4,168 dollar"
   ]
  },
  {
   "cell_type": "markdown",
   "id": "4cef2796",
   "metadata": {},
   "source": [
    "This looks like an okay model based on the R-square of 0.539, meaning the x features included in the model helped to explain 53.9% of the changes to MEDV.  \n",
    "The coefficents matched the initial assumption, with CRIM, DIS, and TAX will decrease the median house price, and RM and PTRATIO wil increase the house price."
   ]
  },
  {
   "cell_type": "markdown",
   "id": "2bb48575",
   "metadata": {},
   "source": [
    "## Checking Assumptions"
   ]
  },
  {
   "cell_type": "code",
   "execution_count": null,
   "id": "25352dca",
   "metadata": {},
   "outputs": [],
   "source": [
    "# Calculating residuals\n",
    "\n",
    "predictions = model.predict(X)  # X is your feature matrix\n",
    "residuals = y - predictions "
   ]
  },
  {
   "cell_type": "code",
   "execution_count": null,
   "id": "11c5334c",
   "metadata": {},
   "outputs": [],
   "source": [
    "# Plotting residuals\n",
    "\n",
    "sns.set(style=\"whitegrid\")\n",
    "plt.figure(figsize=(12, 5))\n",
    "plt.subplot(1, 2, 1)\n",
    "stats.probplot(residuals, dist=\"norm\", plot=plt)\n",
    "plt.title('QQ-plot of Residuals')\n",
    "\n",
    "# Histogram with kernel density estimate\n",
    "plt.subplot(1, 2, 2)\n",
    "sns.histplot(residuals, kde=True, bins=20)\n",
    "plt.title('Histogram with KDE of Residuals')\n",
    "\n",
    "plt.tight_layout()\n",
    "plt.show()"
   ]
  },
  {
   "cell_type": "markdown",
   "id": "e2bb3acc",
   "metadata": {},
   "source": [
    "Assuming a significance level of 0.05, the p-values from the summary table above indicate that all of the coefficients, except for DIS, are statistically significant."
   ]
  },
  {
   "cell_type": "markdown",
   "id": "b002eb02",
   "metadata": {},
   "source": [
    "The Durbin-Watson statistic of 0.769 show that the residuals are somewhat correlated. This will result in larger standard errors and reduces the accuracy of the model. The model may not perform well on new data set."
   ]
  },
  {
   "cell_type": "code",
   "execution_count": null,
   "id": "8e9acd0a",
   "metadata": {},
   "outputs": [],
   "source": [
    "fitted_values = model.predict(sm.add_constant(X))"
   ]
  },
  {
   "cell_type": "code",
   "execution_count": null,
   "id": "8c0da17d",
   "metadata": {},
   "outputs": [],
   "source": [
    "plt.figure(figsize=(8, 6))\n",
    "plt.scatter(fitted_values, residuals, alpha=0.6)\n",
    "plt.axhline(y=0, color='r', linestyle='--', linewidth=2)\n",
    "plt.title('Residuals vs Fitted Values')\n",
    "plt.xlabel('Fitted Values')\n",
    "plt.ylabel('Residuals')\n",
    "plt.show()"
   ]
  },
  {
   "cell_type": "markdown",
   "id": "e8e5d572",
   "metadata": {},
   "source": [
    "The residuals looks like they are fluctuating around zero and there is no visible pattern.  \n",
    "\n",
    "Similar to the Durbin-Watson statistic, if there is homoskedasticity, the model will face the risk of larger standard error and reduced accuracy."
   ]
  },
  {
   "cell_type": "code",
   "execution_count": null,
   "id": "9b70c89c",
   "metadata": {},
   "outputs": [],
   "source": [
    "from statsmodels.stats.outliers_influence import variance_inflation_factor\n",
    "\n",
    "# Fit the OLS model\n",
    "model = sm.OLS(y, sm.add_constant(X)).fit()\n",
    "\n",
    "# Calculate VIF for each feature\n",
    "vif_data = pd.DataFrame()\n",
    "vif_data[\"Feature\"] = X.columns\n",
    "vif_data[\"VIF\"] = [variance_inflation_factor(sm.add_constant(X).values, i) for i in range(sm.add_constant(X).shape[1])]\n",
    "\n",
    "# Set the feature names as index\n",
    "vif_data.set_index(\"Feature\", inplace=True)\n",
    "\n",
    "# Display the DataFrame with VIF values\n",
    "print(vif_data)\n"
   ]
  },
  {
   "cell_type": "markdown",
   "id": "1e2cc021",
   "metadata": {},
   "source": [
    "The VIF of all features are all under 2, which is very low. The model does not seem to exhibit multicollinearity."
   ]
  },
  {
   "cell_type": "markdown",
   "id": "58b39a87",
   "metadata": {},
   "source": [
    "If there is high  multicollinearity, the coefficient value maybe inefficient and the sign maybe incorrect. Larger standard error will cause wider confidence interval, which caused the p-value to be unstable."
   ]
  },
  {
   "cell_type": "code",
   "execution_count": null,
   "id": "1bb511fc",
   "metadata": {},
   "outputs": [],
   "source": []
  }
 ],
 "metadata": {
  "kernelspec": {
   "display_name": "Python 3 (ipykernel)",
   "language": "python",
   "name": "python3"
  },
  "language_info": {
   "codemirror_mode": {
    "name": "ipython",
    "version": 3
   },
   "file_extension": ".py",
   "mimetype": "text/x-python",
   "name": "python",
   "nbconvert_exporter": "python",
   "pygments_lexer": "ipython3",
   "version": "3.9.12"
  }
 },
 "nbformat": 4,
 "nbformat_minor": 5
}
